{
 "cells": [
  {
   "cell_type": "code",
   "execution_count": 7,
   "id": "2a33d056-6acd-44c9-a2be-f64c73b314ce",
   "metadata": {},
   "outputs": [],
   "source": [
    "import pandas as pd\n",
    "import requests"
   ]
  },
  {
   "cell_type": "code",
   "execution_count": 13,
   "id": "2e22c208-de0a-451f-953b-3af6d8fae9b5",
   "metadata": {},
   "outputs": [],
   "source": [
    "rsp_visit = requests.get('https://data-charts-api.hexlet.app/visits?begin=2023-03-01&end=2023-09-01')\n",
    "df_visit = pd.DataFrame(rsp_visit.json())\n",
    "\n",
    "rsp_registrations = requests.get('https://data-charts-api.hexlet.app/registrations?begin=2023-03-01&end=2023-09-01')\n",
    "df_registrations = pd.DataFrame(rsp_registrations.json())"
   ]
  },
  {
   "cell_type": "code",
   "execution_count": null,
   "id": "1c0327d4-c135-4e6a-995c-469797216b6f",
   "metadata": {},
   "outputs": [],
   "source": []
  }
 ],
 "metadata": {
  "kernelspec": {
   "display_name": "Python 3 (ipykernel)",
   "language": "python",
   "name": "python3"
  },
  "language_info": {
   "codemirror_mode": {
    "name": "ipython",
    "version": 3
   },
   "file_extension": ".py",
   "mimetype": "text/x-python",
   "name": "python",
   "nbconvert_exporter": "python",
   "pygments_lexer": "ipython3",
   "version": "3.12.9"
  }
 },
 "nbformat": 4,
 "nbformat_minor": 5
}
